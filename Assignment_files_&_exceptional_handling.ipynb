{
  "nbformat": 4,
  "nbformat_minor": 0,
  "metadata": {
    "colab": {
      "provenance": []
    },
    "kernelspec": {
      "name": "python3",
      "display_name": "Python 3"
    },
    "language_info": {
      "name": "python"
    }
  },
  "cells": [
    {
      "cell_type": "markdown",
      "source": [
        "\n",
        "\n",
        "\n",
        "## **Theoretical Questions with Answers**\n",
        "\n",
        "1. **What is the difference between interpreted and compiled languages?**  \n",
        "   - Interpreted languages run code line by line (e.g., Python), while compiled languages translate code to machine code before execution (e.g., C++).\n",
        "\n",
        "2. **What is exception handling in Python?**  \n",
        "   - It's a mechanism to catch and handle runtime errors using `try`, `except`, `finally`.\n",
        "\n",
        "3. **What is the purpose of the finally block in exception handling?**  \n",
        "   - To execute code regardless of whether an exception occurred or not.\n",
        "\n",
        "4. **What is logging in Python?**  \n",
        "   - A way to track events during code execution using the `logging` module.\n",
        "\n",
        "5. **What is the significance of the `__del__` method in Python?**  \n",
        "   - It’s a destructor method called when an object is about to be destroyed.\n",
        "\n",
        "6. **What is the difference between `import` and `from ... import` in Python?**  \n",
        "   - `import module` imports the whole module. `from module import name` imports specific attributes/functions.\n",
        "\n",
        "7. **How can you handle multiple exceptions in Python?**  \n",
        "   - Using multiple `except` blocks or a tuple:  \n",
        "     ```python\n",
        "     try:\n",
        "         # code\n",
        "     except (TypeError, ValueError) as e:\n",
        "         print(e)\n",
        "     ```\n",
        "\n",
        "8. **What is the purpose of the `with` statement when handling files in Python?**  \n",
        "   - It automatically handles file closing, even if exceptions occur.\n",
        "\n",
        "9. **What is the difference between multithreading and multiprocessing?**  \n",
        "   - **Multithreading:** multiple threads share the same memory.  \n",
        "   - **Multiprocessing:** each process has its own memory space.\n",
        "\n",
        "10. **What are the advantages of using logging in a program?**  \n",
        "    - Debugging, tracking runtime issues, storing runtime messages persistently.\n",
        "\n",
        "11. **What is memory management in Python?**  \n",
        "    - Automatic allocation and deallocation of memory using reference counting and garbage collection.\n",
        "\n",
        "12. **What are the basic steps involved in exception handling in Python?**  \n",
        "    - Enclose risky code in `try`, handle errors in `except`, use `finally` for cleanup.\n",
        "\n",
        "13. **Why is memory management important in Python?**  \n",
        "    - To prevent memory leaks and optimize performance.\n",
        "\n",
        "14. **What is the role of `try` and `except` in exception handling?**  \n",
        "    - `try` contains risky code; `except` handles the exception if it occurs.\n",
        "\n",
        "15. **How does Python's garbage collection system work?**  \n",
        "    - It uses reference counting and cyclic garbage collector to free unused memory.\n",
        "\n",
        "16. **What is the purpose of the `else` block in exception handling?**  \n",
        "    - Runs if no exceptions occur in the `try` block.\n",
        "\n",
        "17. **What are the common logging levels in Python?**  \n",
        "    - DEBUG, INFO, WARNING, ERROR, CRITICAL\n",
        "\n",
        "18. **What is the difference between `os.fork()` and `multiprocessing` in Python?**  \n",
        "    - `os.fork()` is Unix-specific; `multiprocessing` is platform-independent and high-level.\n",
        "\n",
        "19. **What is the importance of closing a file in Python?**  \n",
        "    - To free system resources and avoid data corruption.\n",
        "\n",
        "20. **What is the difference between `file.read()` and `file.readline()` in Python?**  \n",
        "    - `read()` reads the entire file; `readline()` reads one line at a time.\n",
        "\n",
        "21. **What is the logging module in Python used for?**  \n",
        "    - For recording logs of program execution.\n",
        "\n",
        "22. **What is the os module in Python used for in file handling?**  \n",
        "    - For file operations like checking existence, removing, renaming, etc.\n",
        "\n",
        "23. **What are the challenges associated with memory management in Python?**  \n",
        "    - Handling large data, circular references, and memory leaks.\n",
        "\n",
        "24. **How do you raise an exception manually in Python?**  \n",
        "    - Using the `raise` statement:  \n",
        "      ```python\n",
        "      raise ValueError(\"Invalid value\")\n",
        "      ```\n",
        "\n",
        "25. **Why is it important to use multithreading in certain applications?**  \n",
        "    - For tasks involving I/O operations to improve performance without blocking.\n",
        "\n",
        "---\n"
      ],
      "metadata": {
        "id": "1hVJbLSHhXGe"
      }
    },
    {
      "cell_type": "markdown",
      "source": [
        "#  Practical Questions"
      ],
      "metadata": {
        "id": "23v9iKAei7vR"
      }
    },
    {
      "cell_type": "markdown",
      "source": [
        "# 1. How can you open a file for writing in Python and write a string to it?"
      ],
      "metadata": {
        "id": "d8QQrxPTjFYc"
      }
    },
    {
      "cell_type": "code",
      "source": [
        "with open(\"output.txt\", \"w\") as file:\n",
        "    file.write(\"Hello, this is a test string.\")"
      ],
      "metadata": {
        "id": "a4Rvm4Afjmzx"
      },
      "execution_count": 1,
      "outputs": []
    },
    {
      "cell_type": "markdown",
      "source": [
        "# 2. Write a Python program to read the contents of a file and print each line."
      ],
      "metadata": {
        "id": "po0QlFfNjp1n"
      }
    },
    {
      "cell_type": "code",
      "source": [
        "with open(\"output.txt\", \"r\") as file:\n",
        "    for line in file:\n",
        "        print(line.strip())"
      ],
      "metadata": {
        "colab": {
          "base_uri": "https://localhost:8080/"
        },
        "id": "PJUYx5IGjtdx",
        "outputId": "9c25fe34-b5b6-4e66-d982-6b450d0349c2"
      },
      "execution_count": 2,
      "outputs": [
        {
          "output_type": "stream",
          "name": "stdout",
          "text": [
            "Hello, this is a test string.\n"
          ]
        }
      ]
    },
    {
      "cell_type": "markdown",
      "source": [
        "# 3. How would you handle a case where the file doesn't exist while trying to open it for reading?"
      ],
      "metadata": {
        "id": "4vmmasDpjw-K"
      }
    },
    {
      "cell_type": "code",
      "source": [
        "try:\n",
        "    with open(\"nonexistent.txt\", \"r\") as file:\n",
        "        print(file.read())\n",
        "except FileNotFoundError:\n",
        "    print(\"The file does not exist.\")"
      ],
      "metadata": {
        "colab": {
          "base_uri": "https://localhost:8080/"
        },
        "id": "iQWXsXu8j0eJ",
        "outputId": "3be441ef-107c-4641-bf5b-e4e01a3a0972"
      },
      "execution_count": 3,
      "outputs": [
        {
          "output_type": "stream",
          "name": "stdout",
          "text": [
            "The file does not exist.\n"
          ]
        }
      ]
    },
    {
      "cell_type": "markdown",
      "source": [
        "# 4. Write a Python script that reads from one file and writes its content to another file."
      ],
      "metadata": {
        "id": "UdJY7-gTj4Jv"
      }
    },
    {
      "cell_type": "code",
      "source": [
        "with open(\"source.txt\", \"r\") as src, open(\"destination.txt\", \"w\") as dest:\n",
        "    dest.write(src.read())"
      ],
      "metadata": {
        "id": "qtQOZ1OCj74f"
      },
      "execution_count": 5,
      "outputs": []
    },
    {
      "cell_type": "markdown",
      "source": [
        "# 5. How would you catch and handle a division by zero error in Python?"
      ],
      "metadata": {
        "id": "18on6sc5kLST"
      }
    },
    {
      "cell_type": "code",
      "source": [
        "try:\n",
        "    result = 10 / 0\n",
        "except ZeroDivisionError:\n",
        "    print(\"Cannot divide by zero.\")"
      ],
      "metadata": {
        "colab": {
          "base_uri": "https://localhost:8080/"
        },
        "id": "t_tOL01nkOxT",
        "outputId": "4032508f-0819-426e-c65e-e02580c2834e"
      },
      "execution_count": 6,
      "outputs": [
        {
          "output_type": "stream",
          "name": "stdout",
          "text": [
            "Cannot divide by zero.\n"
          ]
        }
      ]
    },
    {
      "cell_type": "markdown",
      "source": [
        "# 6. Write a Python program that logs an error message to a log file when a division by zero exception occurs."
      ],
      "metadata": {
        "id": "CMMW79OMkRzp"
      }
    },
    {
      "cell_type": "code",
      "source": [
        "import logging\n",
        "\n",
        "logging.basicConfig(filename=\"errors.log\", level=logging.ERROR)\n",
        "\n",
        "try:\n",
        "    result = 10 / 0\n",
        "except ZeroDivisionError as e:\n",
        "    logging.error(\"Division by zero error: %s\", e)"
      ],
      "metadata": {
        "colab": {
          "base_uri": "https://localhost:8080/"
        },
        "id": "mPM6IIkmkXlY",
        "outputId": "c0fe68f3-4f2d-4f7b-85ba-6642b0b49422"
      },
      "execution_count": 7,
      "outputs": [
        {
          "output_type": "stream",
          "name": "stderr",
          "text": [
            "ERROR:root:Division by zero error: division by zero\n"
          ]
        }
      ]
    },
    {
      "cell_type": "markdown",
      "source": [
        "# 7. How do you log information at different levels (INFO, ERROR, WARNING) in Python using the logging module?"
      ],
      "metadata": {
        "id": "qQA5jThuka-h"
      }
    },
    {
      "cell_type": "code",
      "source": [
        "import logging\n",
        "\n",
        "logging.basicConfig(level=logging.DEBUG)\n",
        "\n",
        "logging.info(\"This is an info message.\")\n",
        "logging.warning(\"This is a warning message.\")\n",
        "logging.error(\"This is an error message.\")"
      ],
      "metadata": {
        "colab": {
          "base_uri": "https://localhost:8080/"
        },
        "id": "bRFDCJDfkfKg",
        "outputId": "89cf6ec1-bfc7-452b-bdb4-3193d0752ee2"
      },
      "execution_count": 8,
      "outputs": [
        {
          "output_type": "stream",
          "name": "stderr",
          "text": [
            "WARNING:root:This is a warning message.\n",
            "ERROR:root:This is an error message.\n"
          ]
        }
      ]
    },
    {
      "cell_type": "markdown",
      "source": [
        "# 8. Write a program to handle a file opening error using exception handling."
      ],
      "metadata": {
        "id": "h_Hu1fyhkh20"
      }
    },
    {
      "cell_type": "code",
      "source": [
        "try:\n",
        "    file = open(\"missingfile.txt\", \"r\")\n",
        "except FileNotFoundError:\n",
        "    print(\"Error: File not found.\")"
      ],
      "metadata": {
        "colab": {
          "base_uri": "https://localhost:8080/"
        },
        "id": "KQQTLtn9kk4E",
        "outputId": "a01765f1-6a9b-41b2-fae7-da52a0a693c3"
      },
      "execution_count": 9,
      "outputs": [
        {
          "output_type": "stream",
          "name": "stdout",
          "text": [
            "Error: File not found.\n"
          ]
        }
      ]
    },
    {
      "cell_type": "markdown",
      "source": [
        "# 9. How can you read a file line by line and store its content in a list in Python?"
      ],
      "metadata": {
        "id": "x5TN1fbFkpR2"
      }
    },
    {
      "cell_type": "code",
      "source": [
        "with open(\"output.txt\", \"r\") as file:\n",
        "    lines = file.readlines()\n",
        "    print(lines)"
      ],
      "metadata": {
        "colab": {
          "base_uri": "https://localhost:8080/"
        },
        "id": "3jbuo2UAkshs",
        "outputId": "50f624e4-c338-4b9a-e525-53eba91b40a9"
      },
      "execution_count": 10,
      "outputs": [
        {
          "output_type": "stream",
          "name": "stdout",
          "text": [
            "['Hello, this is a test string.']\n"
          ]
        }
      ]
    },
    {
      "cell_type": "markdown",
      "source": [
        "# 10. How can you append data to an existing file in Python?"
      ],
      "metadata": {
        "id": "po105KCKkvjW"
      }
    },
    {
      "cell_type": "code",
      "source": [
        "with open(\"output.txt\", \"a\") as file:\n",
        "    file.write(\"\\nAppended line.\")"
      ],
      "metadata": {
        "id": "WwOl5hVxk1IX"
      },
      "execution_count": 11,
      "outputs": []
    },
    {
      "cell_type": "markdown",
      "source": [
        "# 11. Write a Python program that uses a try-except block to handle an error when attempting to access a dictionary key that doesn't exist."
      ],
      "metadata": {
        "id": "igbmo27ek5Jf"
      }
    },
    {
      "cell_type": "code",
      "source": [
        "data = {\"name\": \"Alice\"}\n",
        "\n",
        "try:\n",
        "    print(data[\"age\"])\n",
        "except KeyError:\n",
        "    print(\"Key not found.\")"
      ],
      "metadata": {
        "colab": {
          "base_uri": "https://localhost:8080/"
        },
        "id": "NcyamF-rk8bh",
        "outputId": "3f1e737d-cc0a-4247-8813-e0f8e1e95e3d"
      },
      "execution_count": 12,
      "outputs": [
        {
          "output_type": "stream",
          "name": "stdout",
          "text": [
            "Key not found.\n"
          ]
        }
      ]
    },
    {
      "cell_type": "markdown",
      "source": [
        "# 12. Write a program that demonstrates using multiple except blocks to handle different types of exceptions."
      ],
      "metadata": {
        "id": "okUQHRxhk_F8"
      }
    },
    {
      "cell_type": "code",
      "source": [
        "try:\n",
        "    num = int(\"text\")\n",
        "    result = 10 / 0\n",
        "except ValueError:\n",
        "    print(\"Value error occurred.\")\n",
        "except ZeroDivisionError:\n",
        "    print(\"Cannot divide by zero.\")"
      ],
      "metadata": {
        "colab": {
          "base_uri": "https://localhost:8080/"
        },
        "id": "y71K_MyGlCRf",
        "outputId": "443326bc-3f85-4588-fd40-6fbcf152e525"
      },
      "execution_count": 13,
      "outputs": [
        {
          "output_type": "stream",
          "name": "stdout",
          "text": [
            "Value error occurred.\n"
          ]
        }
      ]
    },
    {
      "cell_type": "markdown",
      "source": [
        "# 13. How would you check if a file exists before attempting to read it in Python?"
      ],
      "metadata": {
        "id": "vXK3mxLslE9x"
      }
    },
    {
      "cell_type": "code",
      "source": [
        "import os\n",
        "\n",
        "if os.path.exists(\"output.txt\"):\n",
        "    with open(\"output.txt\", \"r\") as file:\n",
        "        print(file.read())\n",
        "else:\n",
        "    print(\"File not found.\")"
      ],
      "metadata": {
        "colab": {
          "base_uri": "https://localhost:8080/"
        },
        "id": "-wYBROCqlIZk",
        "outputId": "a8d9dc1b-97c3-4292-e1c0-f7fd895d94d8"
      },
      "execution_count": 14,
      "outputs": [
        {
          "output_type": "stream",
          "name": "stdout",
          "text": [
            "Hello, this is a test string.\n",
            "Appended line.\n"
          ]
        }
      ]
    },
    {
      "cell_type": "markdown",
      "source": [
        "# 14. Write a program that uses the logging module to log both informational and error messages."
      ],
      "metadata": {
        "id": "X5QdsoYdlLt_"
      }
    },
    {
      "cell_type": "code",
      "source": [
        "import logging\n",
        "\n",
        "logging.basicConfig(filename=\"logfile.log\", level=logging.INFO)\n",
        "\n",
        "logging.info(\"Program started.\")\n",
        "try:\n",
        "    result = 5 / 0\n",
        "except ZeroDivisionError as e:\n",
        "    logging.error(\"Error occurred: %s\", e)"
      ],
      "metadata": {
        "colab": {
          "base_uri": "https://localhost:8080/"
        },
        "id": "Q73b3H9UlPc7",
        "outputId": "b55ad0ae-36d9-43de-836c-41a9c5d31b6a"
      },
      "execution_count": 15,
      "outputs": [
        {
          "output_type": "stream",
          "name": "stderr",
          "text": [
            "ERROR:root:Error occurred: division by zero\n"
          ]
        }
      ]
    },
    {
      "cell_type": "markdown",
      "source": [
        "# 15. Write a Python program that prints the content of a file and handles the case when the file is empty."
      ],
      "metadata": {
        "id": "TkoDAPtklSew"
      }
    },
    {
      "cell_type": "code",
      "source": [
        "with open(\"output.txt\", \"r\") as file:\n",
        "    content = file.read()\n",
        "    if not content:\n",
        "        print(\"File is empty.\")\n",
        "    else:\n",
        "        print(content)"
      ],
      "metadata": {
        "colab": {
          "base_uri": "https://localhost:8080/"
        },
        "id": "l4MaqPz5lVlv",
        "outputId": "2d2e990c-ed03-48ac-a0dd-8a909b2975e1"
      },
      "execution_count": 16,
      "outputs": [
        {
          "output_type": "stream",
          "name": "stdout",
          "text": [
            "Hello, this is a test string.\n",
            "Appended line.\n"
          ]
        }
      ]
    }
  ]
}